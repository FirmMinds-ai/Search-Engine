{
 "cells": [
  {
   "cell_type": "markdown",
   "id": "a7611f18",
   "metadata": {},
   "source": [
    "## Index End point"
   ]
  },
  {
   "cell_type": "code",
   "execution_count": 1,
   "id": "ac845d8e",
   "metadata": {},
   "outputs": [],
   "source": [
    "docs = [\n",
    "    \n",
    "    {'title': 'Collective Infectious Units in Viruses',\n",
    "  'tags': ['microbiology'],\n",
    "  'body': 'Increasing evidence indicates that viruses do not simply propagate as independent virions among cells, organs, and hosts. Instead, viral spread is often mediated by structures that simultaneously transport groups of viral genomes, such as polyploid virions, aggregates of virions, virion-containing proteinaceous structures, secreted lipid vesicles, and virus-induced cell-cell contacts. These structures increase the multiplicity of infection, independently of viral population density and transmission bottlenecks. Collective infectious units may contribute to the maintenance of viral genetic diversity, and could have implications for the evolution of social-like virus-virus interactions. These may include various forms of cooperation such as immunity evasion, genetic complementation, division of labor, and relaxation of fitness trade-offs, but also noncooperative interactions such as negative dominance and interference, potentially leading to conflict.'},\n",
    " \n",
    "    {'title': 'A Practitioner-Friendly Empirical Way to Evaluate Practice',\n",
    "  'tags': ['socialsciences'],\n",
    "  'body': 'Social work practitioners and the agencies that employ them have long been concerned with how best to evaluate whether the interventions that they adopt are being provided appropriately or with desired outcomes. The realities of practice in everyday service provision settings, however, make it difficult to use well-controlled research designs for evaluation purposes in such settings-especially designs involving the use of control groups. The purpose of this article is to provide practitioners in those settings with a new, feasible way to evaluate practice and yield approximate empirical findings that can inform practice decisions despite the absence of a control group. The key feature of this new approach involves the use of within-group effect size benchmarks.'},\n",
    " \n",
    "    {'title': 'The Dose Makes the Poison: Nutritional Overload Determines the Life Traits of Blood-Feeding Arthropods',\n",
    "  'tags': ['parasitology'],\n",
    "  'body': 'Vertebrate blood composition is heavily biased towards proteins, and hemoglobin, which is a hemeprotein, is by far the most abundant protein. Typically, hematophagous insects ingest blood volumes several times their weight before the blood meal. This barbarian feast offers an abundance of nutrients, but the degradation of blood proteins generates toxic concentrations of amino acids and heme, along with unparalleled microbiota growth. Despite this challenge, hematophagous arthropods have successfully developed mechanisms that bypass the toxicity of these molecules. While these adaptations allow hematophagous arthropods to tolerate their diet, they also constitute a unique mode of operation for cell signaling, immunity, and metabolism, the study of which may offer insights into the biology of disease vectors and may lead to novel vector-specific control methods.'},\n",
    " \n",
    "    {'title': 'Health-related Quality of Life and Mental Health of Adults With Atopic Dermatitis',\n",
    "  'tags': ['psychiatry', 'nursing'],\n",
    "  'body': 'This cross-sectional study aimed to examine the association between the prevalence of atopic dermatitis in Korean adults and their health-related quality of life and mental health. Data from a nationally representative sample of 11,913 adults who participated in the Korea National Health and Nutrition Examination Survey V (2010-2012) were analyzed by using SAS version 9.3. The adults with atopic dermatitis had significantly lower quality of life and higher stress than did those without it. Moreover, the health-related quality of life of the adults with atopic dermatitis was significantly lower than those without the disease, after adjusting for all covariates. The adjusted odds ratios of the adults with atopic dermatitis were 1.74 (95% confidence interval [CI]: 1.14-2.65) for stress, 1.69 (95% CI: 1.00-2.84) for depression, and 1.66 (95% CI: 1.02-2.69) for suicidal ideation. Improving our understanding of atopic dermatitis should help nurses and patients manage the stress, depression, suicidal ideation, and reduced quality of life associated with this chronic disease. There is a need to develop and conduct intervention of programs for improving mental health as well as clinical aspects of adult atopic dermatitis.'},\n",
    " \n",
    "    {'title': \"Large scale application of French reed beds: municipal wastewater treatment for a 20,000 inhabitant's town in Moldova\",\n",
    "  'tags': ['environmentalhealth'],\n",
    "  'body': \"A two-stage vertical flow treatment wetlands system (French reed beds) was realized in 2012-2013 for the Orhei's town in Moldova. The treatment system occupies a total area of about 5 ha and operates in cold climate conditions during winter, with air temperatures below -20 Â°C. The first 2 years (2013-2015) of treatment performances for this system are presented here, with a particular highlight on the analysis of the commissioning phase and the operative choices taken along this period basing on the observed results. The specific classification of this application of constructed wetlands (CWs) for the primary and secondary treatment of municipal wastewater as a medium-large size system makes this technical report a relevant reference for demonstrating the possible extension to the highest numbers of inhabitants for the common application range of this family of technologies (CWs) for municipal wastewater. The observed performances for organic carbon (both as chemical oxygen demand (COD) and biochemical oxygen demand (BOD5)), suspended solids and ammonia removals in the whole first operational period consistently satisfied the national limits for discharge in rivers, respectively, with average values of 86%, 96% and 66%. The treated daily flow was measured in the range of 1,000-2,000 m(3)/d.\"},\n",
    " \n",
    "    {'title': 'Social and emotional wellbeing assessment instruments for use with Indigenous Australians: A critical review',\n",
    "  'tags': ['healthservices', 'socialsciences'],\n",
    "  'body': 'There is growing recognition that in addition to universally recognised domains and indicators of wellbeing (such as population health and life expectancy), additional frameworks are required to fully explain and measure Indigenous wellbeing. In particular, Indigenous Australian wellbeing is largely determined by colonisation, historical trauma, grief, loss, and ongoing social marginalisation. Dominant mainstream indicators of wellbeing based on the biomedical model may therefore be inadequate and not entirely relevant in the Indigenous context. It is possible that \"standard\" wellbeing instruments fail to adequately assess indicators of health and wellbeing within societies that have a more holistic view of health.\\r\\n\\r\\nThe aim of this critical review was to identify, document, and evaluate the use of social and emotional wellbeing measures within the Australian Indigenous community. The instruments were systematically described regarding their intrinsic properties (e.g., generic v. disease-specific, domains assessed, extent of cross-cultural adaptation and psychometric characteristics) and their purpose of utilisation in studies (e.g., study setting, intervention, clinical purpose or survey). We included 33 studies, in which 22 distinct instruments were used.Three major categories of social and emotional wellbeing instruments were identified: unmodified standard instruments (10), cross-culturally adapted standard instruments (6), and Indigenous developed measures (6). Recommendations are made for researchers and practitioners who assess social and emotional wellbeing in Indigenous Australians, which may also be applicable to other minority groups where a more holistic framework of wellbeing is applied. It is advised that standard instruments only be used if they have been subject to a formal cross-cultural adaptation process, and Indigenous developed measures continue to be developed, refined, and validated within a diverse range of research and clinical settings.'},\n",
    " \n",
    "    {'title': 'Mental disorders in patients with chronic pelvic pain syndrome (CPPS)',\n",
    "  'tags': ['psychiatry'],\n",
    "  'body': 'Chronic pelvic pain syndrome (CPPS) is a debilitating pain condition with prevalence rates between 2.0% and 26.6%. Studies indicate that CPPS is often associated with psychosocial factors, but little is known about the presence of full-blown mental disorders in female and male patients with CPPS. Therefore, the aim of this study was to investigate the frequencies of mental disorders in patients with CPPS. Cross-sectional data were collected from patients visiting a specialized outpatient clinic. Frequencies of mental disorders were investigated using the Structured Clinical Interview for DSM-IV Axis I Disorders (SCID-I) and compared to the general population. Furthermore, self-rating questionnaires were used to assess somatic symptom severity (PHQ-15), depression severity (PHQ-9) and anxiety severity (GAD-7). Data from 178 CPPS patients (60.1% female; age M=49.1, SD=18.0) were analyzed. Of the total sample, 95.2% (95% CI 90.8-97.9) suffered from at least one mental disorder. The most prevalent mental disorders were somatoform disorders (91.7%; 95% CI 86.4-95.4), followed by mood disorders (50.6%; 95% CI 42.8-58.4) and anxiety disorders (32.1%; 95% CI 25.2-39.8). The self-reported symptom burden was also significantly higher than in the general population. Compared to men, women met the diagnoses of somatoform (p=0.012) and anxiety disorders (p=0.027) significantly more often and reported a significantly higher total somatic symptom severity (p=0.001).Our results provide evidence for a clinically relevant psychosocial symptom burden in patients with CPPS, indicating the need for the examination of psychopathologies and multi-professional treatment for this patient group.'},\n",
    " \n",
    "   {'title': 'Breakthroughs in the spasticity management: Are non-pharmacological treatments the future?',\n",
    "  'tags': ['neurology'],\n",
    "  'body': \"The present paper aims at providing an objective narrative review of the existing non-pharmacological treatments for spasticity. Whereas pharmacologic and conventional physiotherapy approaches result well effective in managing spasticity due to stroke, multiple sclerosis, traumatic brain injury, cerebral palsy and incomplete spinal cord injury, the real usefulness of the non-pharmacological ones is still debated. We performed a narrative literature review of the contribution of non-pharmacological treatments to spasticity management, focusing on the role of non-invasive neurostimulation protocols (NINM). Spasticity therapeutic options available to the physicians include various pharmacological and non-pharmacological approaches (including NINM and vibration therapy), aimed at achieving functional goals for patients and their caregivers. A successful treatment of spasticity depends on a clear comprehension of the underlying pathophysiology, the natural history, and the impact on patient's performances. Even though further studies aimed at validating non-pharmacological treatments for spasticity should be fostered, there is growing evidence supporting the usefulness of non-pharmacologic approaches in significantly helping conventional treatments (physiotherapy and drugs) to reduce spasticity and improving patient's quality of life. Hence, non-pharmacological treatments should be considered as a crucial part of an effective management of spasticity.\"},\n",
    "   \n",
    "  {'title': 'Depressive Symptoms as a Predictor of Memory Complaints in the PRISM Sample',\n",
    "  'tags': ['geriatrics', 'socialsciences', 'psychology'],\n",
    "  'body': 'The current study investigated baseline and longitudinal relationships between memory complaints, depressive symptoms, and cognition in older adults. Using the sample from the Personal Reminder Information and Social Management trial, we generated path models predicting self-rated memory complaints measured by the Memory Functioning Questionnaire (MFQ).Our baseline models showed that more depressive symptoms were associated with reporting more frequent forgetting incidents and a greater decline in memory function. The baseline models also revealed that higher scores in a latent cognitive function were associated with reporting a greater decline in memory functioning and a greater use of mnemonics. However, cognitive predictors did not mediate the baseline associations between the MFQ measures and depressive symptoms. Further, these predictors were not able to directly predict the 12-month MFQ measures over and above the baseline effects. Including personality traits (neuroticism and conscientiousness) did not significantly affect the models. Our results suggest that memory complaints about frequency of forgetting can be the most reliable indicator of depression risk among the four factors in the MFQ. We discuss theoretical implications for longitudinal relationships between memory complaints, depressive symptoms, and cognitive function in older adults.'}  ,\n",
    "   \n",
    "\n",
    " {'title': 'Breakthroughs in the spasticity management: Are non-pharmacological treatments the future?',\n",
    "  'tags': ['neurology'],\n",
    "  'body': \"The present paper aims at providing an objective narrative review of the existing non-pharmacological treatments for spasticity. Whereas pharmacologic and conventional physiotherapy approaches result well effective in managing spasticity due to stroke, multiple sclerosis, traumatic brain injury, cerebral palsy and incomplete spinal cord injury, the real usefulness of the non-pharmacological ones is still debated. We performed a narrative literature review of the contribution of non-pharmacological treatments to spasticity management, focusing on the role of non-invasive neurostimulation protocols (NINM). Spasticity therapeutic options available to the physicians include various pharmacological and non-pharmacological approaches (including NINM and vibration therapy), aimed at achieving functional goals for patients and their caregivers. A successful treatment of spasticity depends on a clear comprehension of the underlying pathophysiology, the natural history, and the impact on patient's performances. Even though further studies aimed at validating non-pharmacological treatments for spasticity should be fostered, there is growing evidence supporting the usefulness of non-pharmacologic approaches in significantly helping conventional treatments (physiotherapy and drugs) to reduce spasticity and improving patient's quality of life. Hence, non-pharmacological treatments should be considered as a crucial part of an effective management of spasticity.\"}\n",
    "]"
   ]
  },
  {
   "cell_type": "code",
   "execution_count": 2,
   "id": "a9995075",
   "metadata": {},
   "outputs": [
    {
     "name": "stdout",
     "output_type": "stream",
     "text": [
      "{'title': 'Collective Infectious Units in Viruses', 'tags': ['microbiology'], 'body': 'Increasing evidence indicates that viruses do not simply propagate as independent virions among cells, organs, and hosts. Instead, viral spread is often mediated by structures that simultaneously transport groups of viral genomes, such as polyploid virions, aggregates of virions, virion-containing proteinaceous structures, secreted lipid vesicles, and virus-induced cell-cell contacts. These structures increase the multiplicity of infection, independently of viral population density and transmission bottlenecks. Collective infectious units may contribute to the maintenance of viral genetic diversity, and could have implications for the evolution of social-like virus-virus interactions. These may include various forms of cooperation such as immunity evasion, genetic complementation, division of labor, and relaxation of fitness trade-offs, but also noncooperative interactions such as negative dominance and interference, potentially leading to conflict.'}\n",
      "\n",
      "{'title': 'A Practitioner-Friendly Empirical Way to Evaluate Practice', 'tags': ['socialsciences'], 'body': 'Social work practitioners and the agencies that employ them have long been concerned with how best to evaluate whether the interventions that they adopt are being provided appropriately or with desired outcomes. The realities of practice in everyday service provision settings, however, make it difficult to use well-controlled research designs for evaluation purposes in such settings-especially designs involving the use of control groups. The purpose of this article is to provide practitioners in those settings with a new, feasible way to evaluate practice and yield approximate empirical findings that can inform practice decisions despite the absence of a control group. The key feature of this new approach involves the use of within-group effect size benchmarks.'}\n",
      "\n",
      "{'title': 'The Dose Makes the Poison: Nutritional Overload Determines the Life Traits of Blood-Feeding Arthropods', 'tags': ['parasitology'], 'body': 'Vertebrate blood composition is heavily biased towards proteins, and hemoglobin, which is a hemeprotein, is by far the most abundant protein. Typically, hematophagous insects ingest blood volumes several times their weight before the blood meal. This barbarian feast offers an abundance of nutrients, but the degradation of blood proteins generates toxic concentrations of amino acids and heme, along with unparalleled microbiota growth. Despite this challenge, hematophagous arthropods have successfully developed mechanisms that bypass the toxicity of these molecules. While these adaptations allow hematophagous arthropods to tolerate their diet, they also constitute a unique mode of operation for cell signaling, immunity, and metabolism, the study of which may offer insights into the biology of disease vectors and may lead to novel vector-specific control methods.'}\n",
      "\n",
      "{'title': 'Health-related Quality of Life and Mental Health of Adults With Atopic Dermatitis', 'tags': ['psychiatry', 'nursing'], 'body': 'This cross-sectional study aimed to examine the association between the prevalence of atopic dermatitis in Korean adults and their health-related quality of life and mental health. Data from a nationally representative sample of 11,913 adults who participated in the Korea National Health and Nutrition Examination Survey V (2010-2012) were analyzed by using SAS version 9.3. The adults with atopic dermatitis had significantly lower quality of life and higher stress than did those without it. Moreover, the health-related quality of life of the adults with atopic dermatitis was significantly lower than those without the disease, after adjusting for all covariates. The adjusted odds ratios of the adults with atopic dermatitis were 1.74 (95% confidence interval [CI]: 1.14-2.65) for stress, 1.69 (95% CI: 1.00-2.84) for depression, and 1.66 (95% CI: 1.02-2.69) for suicidal ideation. Improving our understanding of atopic dermatitis should help nurses and patients manage the stress, depression, suicidal ideation, and reduced quality of life associated with this chronic disease. There is a need to develop and conduct intervention of programs for improving mental health as well as clinical aspects of adult atopic dermatitis.'}\n",
      "\n",
      "{'title': \"Large scale application of French reed beds: municipal wastewater treatment for a 20,000 inhabitant's town in Moldova\", 'tags': ['environmentalhealth'], 'body': \"A two-stage vertical flow treatment wetlands system (French reed beds) was realized in 2012-2013 for the Orhei's town in Moldova. The treatment system occupies a total area of about 5 ha and operates in cold climate conditions during winter, with air temperatures below -20 Â°C. The first 2 years (2013-2015) of treatment performances for this system are presented here, with a particular highlight on the analysis of the commissioning phase and the operative choices taken along this period basing on the observed results. The specific classification of this application of constructed wetlands (CWs) for the primary and secondary treatment of municipal wastewater as a medium-large size system makes this technical report a relevant reference for demonstrating the possible extension to the highest numbers of inhabitants for the common application range of this family of technologies (CWs) for municipal wastewater. The observed performances for organic carbon (both as chemical oxygen demand (COD) and biochemical oxygen demand (BOD5)), suspended solids and ammonia removals in the whole first operational period consistently satisfied the national limits for discharge in rivers, respectively, with average values of 86%, 96% and 66%. The treated daily flow was measured in the range of 1,000-2,000 m(3)/d.\"}\n",
      "\n",
      "{'title': 'Social and emotional wellbeing assessment instruments for use with Indigenous Australians: A critical review', 'tags': ['healthservices', 'socialsciences'], 'body': 'There is growing recognition that in addition to universally recognised domains and indicators of wellbeing (such as population health and life expectancy), additional frameworks are required to fully explain and measure Indigenous wellbeing. In particular, Indigenous Australian wellbeing is largely determined by colonisation, historical trauma, grief, loss, and ongoing social marginalisation. Dominant mainstream indicators of wellbeing based on the biomedical model may therefore be inadequate and not entirely relevant in the Indigenous context. It is possible that \"standard\" wellbeing instruments fail to adequately assess indicators of health and wellbeing within societies that have a more holistic view of health.\\r\\n\\r\\nThe aim of this critical review was to identify, document, and evaluate the use of social and emotional wellbeing measures within the Australian Indigenous community. The instruments were systematically described regarding their intrinsic properties (e.g., generic v. disease-specific, domains assessed, extent of cross-cultural adaptation and psychometric characteristics) and their purpose of utilisation in studies (e.g., study setting, intervention, clinical purpose or survey). We included 33 studies, in which 22 distinct instruments were used.Three major categories of social and emotional wellbeing instruments were identified: unmodified standard instruments (10), cross-culturally adapted standard instruments (6), and Indigenous developed measures (6). Recommendations are made for researchers and practitioners who assess social and emotional wellbeing in Indigenous Australians, which may also be applicable to other minority groups where a more holistic framework of wellbeing is applied. It is advised that standard instruments only be used if they have been subject to a formal cross-cultural adaptation process, and Indigenous developed measures continue to be developed, refined, and validated within a diverse range of research and clinical settings.'}\n",
      "\n",
      "{'title': 'Mental disorders in patients with chronic pelvic pain syndrome (CPPS)', 'tags': ['psychiatry'], 'body': 'Chronic pelvic pain syndrome (CPPS) is a debilitating pain condition with prevalence rates between 2.0% and 26.6%. Studies indicate that CPPS is often associated with psychosocial factors, but little is known about the presence of full-blown mental disorders in female and male patients with CPPS. Therefore, the aim of this study was to investigate the frequencies of mental disorders in patients with CPPS. Cross-sectional data were collected from patients visiting a specialized outpatient clinic. Frequencies of mental disorders were investigated using the Structured Clinical Interview for DSM-IV Axis I Disorders (SCID-I) and compared to the general population. Furthermore, self-rating questionnaires were used to assess somatic symptom severity (PHQ-15), depression severity (PHQ-9) and anxiety severity (GAD-7). Data from 178 CPPS patients (60.1% female; age M=49.1, SD=18.0) were analyzed. Of the total sample, 95.2% (95% CI 90.8-97.9) suffered from at least one mental disorder. The most prevalent mental disorders were somatoform disorders (91.7%; 95% CI 86.4-95.4), followed by mood disorders (50.6%; 95% CI 42.8-58.4) and anxiety disorders (32.1%; 95% CI 25.2-39.8). The self-reported symptom burden was also significantly higher than in the general population. Compared to men, women met the diagnoses of somatoform (p=0.012) and anxiety disorders (p=0.027) significantly more often and reported a significantly higher total somatic symptom severity (p=0.001).Our results provide evidence for a clinically relevant psychosocial symptom burden in patients with CPPS, indicating the need for the examination of psychopathologies and multi-professional treatment for this patient group.'}\n",
      "\n",
      "{'title': 'Breakthroughs in the spasticity management: Are non-pharmacological treatments the future?', 'tags': ['neurology'], 'body': \"The present paper aims at providing an objective narrative review of the existing non-pharmacological treatments for spasticity. Whereas pharmacologic and conventional physiotherapy approaches result well effective in managing spasticity due to stroke, multiple sclerosis, traumatic brain injury, cerebral palsy and incomplete spinal cord injury, the real usefulness of the non-pharmacological ones is still debated. We performed a narrative literature review of the contribution of non-pharmacological treatments to spasticity management, focusing on the role of non-invasive neurostimulation protocols (NINM). Spasticity therapeutic options available to the physicians include various pharmacological and non-pharmacological approaches (including NINM and vibration therapy), aimed at achieving functional goals for patients and their caregivers. A successful treatment of spasticity depends on a clear comprehension of the underlying pathophysiology, the natural history, and the impact on patient's performances. Even though further studies aimed at validating non-pharmacological treatments for spasticity should be fostered, there is growing evidence supporting the usefulness of non-pharmacologic approaches in significantly helping conventional treatments (physiotherapy and drugs) to reduce spasticity and improving patient's quality of life. Hence, non-pharmacological treatments should be considered as a crucial part of an effective management of spasticity.\"}\n",
      "\n",
      "{'title': 'Depressive Symptoms as a Predictor of Memory Complaints in the PRISM Sample', 'tags': ['geriatrics', 'socialsciences', 'psychology'], 'body': 'The current study investigated baseline and longitudinal relationships between memory complaints, depressive symptoms, and cognition in older adults. Using the sample from the Personal Reminder Information and Social Management trial, we generated path models predicting self-rated memory complaints measured by the Memory Functioning Questionnaire (MFQ).Our baseline models showed that more depressive symptoms were associated with reporting more frequent forgetting incidents and a greater decline in memory function. The baseline models also revealed that higher scores in a latent cognitive function were associated with reporting a greater decline in memory functioning and a greater use of mnemonics. However, cognitive predictors did not mediate the baseline associations between the MFQ measures and depressive symptoms. Further, these predictors were not able to directly predict the 12-month MFQ measures over and above the baseline effects. Including personality traits (neuroticism and conscientiousness) did not significantly affect the models. Our results suggest that memory complaints about frequency of forgetting can be the most reliable indicator of depression risk among the four factors in the MFQ. We discuss theoretical implications for longitudinal relationships between memory complaints, depressive symptoms, and cognitive function in older adults.'}\n",
      "\n",
      "{'title': 'Breakthroughs in the spasticity management: Are non-pharmacological treatments the future?', 'tags': ['neurology'], 'body': \"The present paper aims at providing an objective narrative review of the existing non-pharmacological treatments for spasticity. Whereas pharmacologic and conventional physiotherapy approaches result well effective in managing spasticity due to stroke, multiple sclerosis, traumatic brain injury, cerebral palsy and incomplete spinal cord injury, the real usefulness of the non-pharmacological ones is still debated. We performed a narrative literature review of the contribution of non-pharmacological treatments to spasticity management, focusing on the role of non-invasive neurostimulation protocols (NINM). Spasticity therapeutic options available to the physicians include various pharmacological and non-pharmacological approaches (including NINM and vibration therapy), aimed at achieving functional goals for patients and their caregivers. A successful treatment of spasticity depends on a clear comprehension of the underlying pathophysiology, the natural history, and the impact on patient's performances. Even though further studies aimed at validating non-pharmacological treatments for spasticity should be fostered, there is growing evidence supporting the usefulness of non-pharmacologic approaches in significantly helping conventional treatments (physiotherapy and drugs) to reduce spasticity and improving patient's quality of life. Hence, non-pharmacological treatments should be considered as a crucial part of an effective management of spasticity.\"}\n",
      "\n"
     ]
    }
   ],
   "source": [
    "for x in docs:\n",
    "    print(x)\n",
    "    print(\"\")"
   ]
  },
  {
   "cell_type": "code",
   "execution_count": 10,
   "id": "2c709587",
   "metadata": {},
   "outputs": [
    {
     "name": "stdout",
     "output_type": "stream",
     "text": [
      "{'message': 'success'}\n",
      "{'message': 'success'}\n",
      "{'message': 'success'}\n",
      "{'message': 'success'}\n",
      "{'message': 'success'}\n",
      "{'message': 'success'}\n",
      "{'message': 'success'}\n",
      "{'message': 'success'}\n",
      "{'message': 'success'}\n",
      "{'message': 'success'}\n"
     ]
    }
   ],
   "source": [
    "import requests\n",
    "import time\n",
    "\n",
    "for x in docs :\n",
    "    res = requests.post(url = \"https://search-engine123.herokuapp.com/index\", json = {'document':x})\n",
    "    print(res.json())\n",
    "    time.sleep(10)"
   ]
  },
  {
   "cell_type": "code",
   "execution_count": 4,
   "id": "6f3647df",
   "metadata": {},
   "outputs": [
    {
     "data": {
      "text/plain": [
       "<Response [200]>"
      ]
     },
     "execution_count": 4,
     "metadata": {},
     "output_type": "execute_result"
    }
   ],
   "source": [
    "res"
   ]
  },
  {
   "cell_type": "markdown",
   "id": "06d0c5f0",
   "metadata": {},
   "source": [
    "## Search End point"
   ]
  },
  {
   "cell_type": "code",
   "execution_count": 5,
   "id": "8eea4eef",
   "metadata": {},
   "outputs": [
    {
     "name": "stdout",
     "output_type": "stream",
     "text": [
      "Matched Documents\n",
      "\n",
      "{'_id': '61a9e90806bf4a5b9679394c', 'body': 'Chronic pelvic pain syndrome (CPPS) is a debilitating pain condition with prevalence rates between 2.0% and 26.6%. Studies indicate that CPPS is often associated with psychosocial factors, but little is known about the presence of full-blown mental disorders in female and male patients with CPPS. Therefore, the aim of this study was to investigate the frequencies of mental disorders in patients with CPPS. Cross-sectional data were collected from patients visiting a specialized outpatient clinic. Frequencies of mental disorders were investigated using the Structured Clinical Interview for DSM-IV Axis I Disorders (SCID-I) and compared to the general population. Furthermore, self-rating questionnaires were used to assess somatic symptom severity (PHQ-15), depression severity (PHQ-9) and anxiety severity (GAD-7). Data from 178 CPPS patients (60.1% female; age M=49.1, SD=18.0) were analyzed. Of the total sample, 95.2% (95% CI 90.8-97.9) suffered from at least one mental disorder. The most prevalent mental disorders were somatoform disorders (91.7%; 95% CI 86.4-95.4), followed by mood disorders (50.6%; 95% CI 42.8-58.4) and anxiety disorders (32.1%; 95% CI 25.2-39.8). The self-reported symptom burden was also significantly higher than in the general population. Compared to men, women met the diagnoses of somatoform (p=0.012) and anxiety disorders (p=0.027) significantly more often and reported a significantly higher total somatic symptom severity (p=0.001).Our results provide evidence for a clinically relevant psychosocial symptom burden in patients with CPPS, indicating the need for the examination of psychopathologies and multi-professional treatment for this patient group.', 'tags': ['psychiatry'], 'title': 'Mental disorders in patients with chronic pelvic pain syndrome (CPPS)'}\n",
      "\n",
      "{'_id': '61a9e9141d5700ad42df8c19', 'body': \"The present paper aims at providing an objective narrative review of the existing non-pharmacological treatments for spasticity. Whereas pharmacologic and conventional physiotherapy approaches result well effective in managing spasticity due to stroke, multiple sclerosis, traumatic brain injury, cerebral palsy and incomplete spinal cord injury, the real usefulness of the non-pharmacological ones is still debated. We performed a narrative literature review of the contribution of non-pharmacological treatments to spasticity management, focusing on the role of non-invasive neurostimulation protocols (NINM). Spasticity therapeutic options available to the physicians include various pharmacological and non-pharmacological approaches (including NINM and vibration therapy), aimed at achieving functional goals for patients and their caregivers. A successful treatment of spasticity depends on a clear comprehension of the underlying pathophysiology, the natural history, and the impact on patient's performances. Even though further studies aimed at validating non-pharmacological treatments for spasticity should be fostered, there is growing evidence supporting the usefulness of non-pharmacologic approaches in significantly helping conventional treatments (physiotherapy and drugs) to reduce spasticity and improving patient's quality of life. Hence, non-pharmacological treatments should be considered as a crucial part of an effective management of spasticity.\", 'tags': ['neurology'], 'title': 'Breakthroughs in the spasticity management: Are non-pharmacological treatments the future?'}\n",
      "\n",
      "{'_id': '61a9e92c06bf4a5b9679394d', 'body': \"The present paper aims at providing an objective narrative review of the existing non-pharmacological treatments for spasticity. Whereas pharmacologic and conventional physiotherapy approaches result well effective in managing spasticity due to stroke, multiple sclerosis, traumatic brain injury, cerebral palsy and incomplete spinal cord injury, the real usefulness of the non-pharmacological ones is still debated. We performed a narrative literature review of the contribution of non-pharmacological treatments to spasticity management, focusing on the role of non-invasive neurostimulation protocols (NINM). Spasticity therapeutic options available to the physicians include various pharmacological and non-pharmacological approaches (including NINM and vibration therapy), aimed at achieving functional goals for patients and their caregivers. A successful treatment of spasticity depends on a clear comprehension of the underlying pathophysiology, the natural history, and the impact on patient's performances. Even though further studies aimed at validating non-pharmacological treatments for spasticity should be fostered, there is growing evidence supporting the usefulness of non-pharmacologic approaches in significantly helping conventional treatments (physiotherapy and drugs) to reduce spasticity and improving patient's quality of life. Hence, non-pharmacological treatments should be considered as a crucial part of an effective management of spasticity.\", 'tags': ['neurology'], 'title': 'Breakthroughs in the spasticity management: Are non-pharmacological treatments the future?'}\n",
      "\n",
      "{'_id': '61a9e8f11d5700ad42df8c18', 'body': \"A two-stage vertical flow treatment wetlands system (French reed beds) was realized in 2012-2013 for the Orhei's town in Moldova. The treatment system occupies a total area of about 5 ha and operates in cold climate conditions during winter, with air temperatures below -20 Â°C. The first 2 years (2013-2015) of treatment performances for this system are presented here, with a particular highlight on the analysis of the commissioning phase and the operative choices taken along this period basing on the observed results. The specific classification of this application of constructed wetlands (CWs) for the primary and secondary treatment of municipal wastewater as a medium-large size system makes this technical report a relevant reference for demonstrating the possible extension to the highest numbers of inhabitants for the common application range of this family of technologies (CWs) for municipal wastewater. The observed performances for organic carbon (both as chemical oxygen demand (COD) and biochemical oxygen demand (BOD5)), suspended solids and ammonia removals in the whole first operational period consistently satisfied the national limits for discharge in rivers, respectively, with average values of 86%, 96% and 66%. The treated daily flow was measured in the range of 1,000-2,000 m(3)/d.\", 'tags': ['environmentalhealth'], 'title': \"Large scale application of French reed beds: municipal wastewater treatment for a 20,000 inhabitant's town in Moldova\"}\n",
      "\n",
      "\n",
      "Related Documents\n",
      "\n",
      "{'_id': '61a9e8e51d5700ad42df8c17', 'body': 'This cross-sectional study aimed to examine the association between the prevalence of atopic dermatitis in Korean adults and their health-related quality of life and mental health. Data from a nationally representative sample of 11,913 adults who participated in the Korea National Health and Nutrition Examination Survey V (2010-2012) were analyzed by using SAS version 9.3. The adults with atopic dermatitis had significantly lower quality of life and higher stress than did those without it. Moreover, the health-related quality of life of the adults with atopic dermatitis was significantly lower than those without the disease, after adjusting for all covariates. The adjusted odds ratios of the adults with atopic dermatitis were 1.74 (95% confidence interval [CI]: 1.14-2.65) for stress, 1.69 (95% CI: 1.00-2.84) for depression, and 1.66 (95% CI: 1.02-2.69) for suicidal ideation. Improving our understanding of atopic dermatitis should help nurses and patients manage the stress, depression, suicidal ideation, and reduced quality of life associated with this chronic disease. There is a need to develop and conduct intervention of programs for improving mental health as well as clinical aspects of adult atopic dermatitis.', 'tags': ['psychiatry', 'nursing'], 'title': 'Health-related Quality of Life and Mental Health of Adults With Atopic Dermatitis'}\n",
      "\n"
     ]
    }
   ],
   "source": [
    "res = requests.get(url = \"https://search-engine123.herokuapp.com/search?search=non pharmacological treatments\")\n",
    "\n",
    "print(\"Matched Documents\")\n",
    "print(\"\")\n",
    "for x in res.json()[\"Matched Documents\"]:\n",
    "    print(x)\n",
    "    print(\"\")\n",
    "print(\"\")\n",
    "print(\"Related Documents\")\n",
    "print(\"\")\n",
    "for x in res.json()[\"Related Documents\"]:\n",
    "    print(x)\n",
    "    print(\"\")"
   ]
  },
  {
   "cell_type": "code",
   "execution_count": 6,
   "id": "b5ea83f1",
   "metadata": {},
   "outputs": [
    {
     "name": "stdout",
     "output_type": "stream",
     "text": [
      "Matched Documents\n",
      "\n",
      "{'_id': '61a9e8e51d5700ad42df8c17', 'body': 'This cross-sectional study aimed to examine the association between the prevalence of atopic dermatitis in Korean adults and their health-related quality of life and mental health. Data from a nationally representative sample of 11,913 adults who participated in the Korea National Health and Nutrition Examination Survey V (2010-2012) were analyzed by using SAS version 9.3. The adults with atopic dermatitis had significantly lower quality of life and higher stress than did those without it. Moreover, the health-related quality of life of the adults with atopic dermatitis was significantly lower than those without the disease, after adjusting for all covariates. The adjusted odds ratios of the adults with atopic dermatitis were 1.74 (95% confidence interval [CI]: 1.14-2.65) for stress, 1.69 (95% CI: 1.00-2.84) for depression, and 1.66 (95% CI: 1.02-2.69) for suicidal ideation. Improving our understanding of atopic dermatitis should help nurses and patients manage the stress, depression, suicidal ideation, and reduced quality of life associated with this chronic disease. There is a need to develop and conduct intervention of programs for improving mental health as well as clinical aspects of adult atopic dermatitis.', 'tags': ['psychiatry', 'nursing'], 'title': 'Health-related Quality of Life and Mental Health of Adults With Atopic Dermatitis'}\n",
      "\n",
      "{'_id': '61a9e90806bf4a5b9679394c', 'body': 'Chronic pelvic pain syndrome (CPPS) is a debilitating pain condition with prevalence rates between 2.0% and 26.6%. Studies indicate that CPPS is often associated with psychosocial factors, but little is known about the presence of full-blown mental disorders in female and male patients with CPPS. Therefore, the aim of this study was to investigate the frequencies of mental disorders in patients with CPPS. Cross-sectional data were collected from patients visiting a specialized outpatient clinic. Frequencies of mental disorders were investigated using the Structured Clinical Interview for DSM-IV Axis I Disorders (SCID-I) and compared to the general population. Furthermore, self-rating questionnaires were used to assess somatic symptom severity (PHQ-15), depression severity (PHQ-9) and anxiety severity (GAD-7). Data from 178 CPPS patients (60.1% female; age M=49.1, SD=18.0) were analyzed. Of the total sample, 95.2% (95% CI 90.8-97.9) suffered from at least one mental disorder. The most prevalent mental disorders were somatoform disorders (91.7%; 95% CI 86.4-95.4), followed by mood disorders (50.6%; 95% CI 42.8-58.4) and anxiety disorders (32.1%; 95% CI 25.2-39.8). The self-reported symptom burden was also significantly higher than in the general population. Compared to men, women met the diagnoses of somatoform (p=0.012) and anxiety disorders (p=0.027) significantly more often and reported a significantly higher total somatic symptom severity (p=0.001).Our results provide evidence for a clinically relevant psychosocial symptom burden in patients with CPPS, indicating the need for the examination of psychopathologies and multi-professional treatment for this patient group.', 'tags': ['psychiatry'], 'title': 'Mental disorders in patients with chronic pelvic pain syndrome (CPPS)'}\n",
      "\n",
      "{'_id': '61a9e8f11d5700ad42df8c18', 'body': \"A two-stage vertical flow treatment wetlands system (French reed beds) was realized in 2012-2013 for the Orhei's town in Moldova. The treatment system occupies a total area of about 5 ha and operates in cold climate conditions during winter, with air temperatures below -20 Â°C. The first 2 years (2013-2015) of treatment performances for this system are presented here, with a particular highlight on the analysis of the commissioning phase and the operative choices taken along this period basing on the observed results. The specific classification of this application of constructed wetlands (CWs) for the primary and secondary treatment of municipal wastewater as a medium-large size system makes this technical report a relevant reference for demonstrating the possible extension to the highest numbers of inhabitants for the common application range of this family of technologies (CWs) for municipal wastewater. The observed performances for organic carbon (both as chemical oxygen demand (COD) and biochemical oxygen demand (BOD5)), suspended solids and ammonia removals in the whole first operational period consistently satisfied the national limits for discharge in rivers, respectively, with average values of 86%, 96% and 66%. The treated daily flow was measured in the range of 1,000-2,000 m(3)/d.\", 'tags': ['environmentalhealth'], 'title': \"Large scale application of French reed beds: municipal wastewater treatment for a 20,000 inhabitant's town in Moldova\"}\n",
      "\n",
      "{'_id': '61a9e8fd06bf4a5b9679394b', 'body': 'There is growing recognition that in addition to universally recognised domains and indicators of wellbeing (such as population health and life expectancy), additional frameworks are required to fully explain and measure Indigenous wellbeing. In particular, Indigenous Australian wellbeing is largely determined by colonisation, historical trauma, grief, loss, and ongoing social marginalisation. Dominant mainstream indicators of wellbeing based on the biomedical model may therefore be inadequate and not entirely relevant in the Indigenous context. It is possible that \"standard\" wellbeing instruments fail to adequately assess indicators of health and wellbeing within societies that have a more holistic view of health.\\r\\n\\r\\nThe aim of this critical review was to identify, document, and evaluate the use of social and emotional wellbeing measures within the Australian Indigenous community. The instruments were systematically described regarding their intrinsic properties (e.g., generic v. disease-specific, domains assessed, extent of cross-cultural adaptation and psychometric characteristics) and their purpose of utilisation in studies (e.g., study setting, intervention, clinical purpose or survey). We included 33 studies, in which 22 distinct instruments were used.Three major categories of social and emotional wellbeing instruments were identified: unmodified standard instruments (10), cross-culturally adapted standard instruments (6), and Indigenous developed measures (6). Recommendations are made for researchers and practitioners who assess social and emotional wellbeing in Indigenous Australians, which may also be applicable to other minority groups where a more holistic framework of wellbeing is applied. It is advised that standard instruments only be used if they have been subject to a formal cross-cultural adaptation process, and Indigenous developed measures continue to be developed, refined, and validated within a diverse range of research and clinical settings.', 'tags': ['healthservices', 'socialsciences'], 'title': 'Social and emotional wellbeing assessment instruments for use with Indigenous Australians: A critical review'}\n",
      "\n",
      "{'_id': '61a9e9201d5700ad42df8c1a', 'body': 'The current study investigated baseline and longitudinal relationships between memory complaints, depressive symptoms, and cognition in older adults. Using the sample from the Personal Reminder Information and Social Management trial, we generated path models predicting self-rated memory complaints measured by the Memory Functioning Questionnaire (MFQ).Our baseline models showed that more depressive symptoms were associated with reporting more frequent forgetting incidents and a greater decline in memory function. The baseline models also revealed that higher scores in a latent cognitive function were associated with reporting a greater decline in memory functioning and a greater use of mnemonics. However, cognitive predictors did not mediate the baseline associations between the MFQ measures and depressive symptoms. Further, these predictors were not able to directly predict the 12-month MFQ measures over and above the baseline effects. Including personality traits (neuroticism and conscientiousness) did not significantly affect the models. Our results suggest that memory complaints about frequency of forgetting can be the most reliable indicator of depression risk among the four factors in the MFQ. We discuss theoretical implications for longitudinal relationships between memory complaints, depressive symptoms, and cognitive function in older adults.', 'tags': ['geriatrics', 'socialsciences', 'psychology'], 'title': 'Depressive Symptoms as a Predictor of Memory Complaints in the PRISM Sample'}\n",
      "\n",
      "\n",
      "Related Documents\n",
      "\n",
      "{'_id': '61a9e8ce1d5700ad42df8c15', 'body': 'Social work practitioners and the agencies that employ them have long been concerned with how best to evaluate whether the interventions that they adopt are being provided appropriately or with desired outcomes. The realities of practice in everyday service provision settings, however, make it difficult to use well-controlled research designs for evaluation purposes in such settings-especially designs involving the use of control groups. The purpose of this article is to provide practitioners in those settings with a new, feasible way to evaluate practice and yield approximate empirical findings that can inform practice decisions despite the absence of a control group. The key feature of this new approach involves the use of within-group effect size benchmarks.', 'tags': ['socialsciences'], 'title': 'A Practitioner-Friendly Empirical Way to Evaluate Practice'}\n",
      "\n"
     ]
    }
   ],
   "source": [
    "res = requests.get(url = \"https://search-engine123.herokuapp.com/search?search= Mental Health Condition for adults\")\n",
    "\n",
    "\n",
    "print(\"Matched Documents\")\n",
    "print(\"\")\n",
    "for x in res.json()[\"Matched Documents\"]:\n",
    "    print(x)\n",
    "    print(\"\")\n",
    "print(\"\")\n",
    "print(\"Related Documents\")\n",
    "print(\"\")\n",
    "for x in res.json()[\"Related Documents\"]:\n",
    "    print(x)\n",
    "    print(\"\")"
   ]
  },
  {
   "cell_type": "markdown",
   "id": "c2be8867",
   "metadata": {},
   "source": [
    "## document-slug End point"
   ]
  },
  {
   "cell_type": "code",
   "execution_count": 7,
   "id": "88c09cb8",
   "metadata": {},
   "outputs": [
    {
     "data": {
      "text/plain": [
       "{'document_slug': 'httpsstackoverflowcomquestionshow-check-existence-get-parameter-flask'}"
      ]
     },
     "execution_count": 7,
     "metadata": {},
     "output_type": "execute_result"
    }
   ],
   "source": [
    "res = requests.get(url = \"https://search-engine123.herokuapp.com/document_slug?document_slug=https://stackoverflow.com/questions/14234063/how-to-check-for-the-existence-of-a-get-parameter-in-flask\")\n",
    "\n",
    "res.json()"
   ]
  },
  {
   "cell_type": "code",
   "execution_count": 8,
   "id": "720304a2",
   "metadata": {},
   "outputs": [
    {
     "data": {
      "text/plain": [
       "{'document_slug': 'nikhil'}"
      ]
     },
     "execution_count": 8,
     "metadata": {},
     "output_type": "execute_result"
    }
   ],
   "source": [
    "res = requests.get(url = \"https://search-engine123.herokuapp.com/document_slug?document_slug=nikhil-\")\n",
    "\n",
    "res.json()"
   ]
  },
  {
   "cell_type": "code",
   "execution_count": 9,
   "id": "f2cfafff",
   "metadata": {},
   "outputs": [
    {
     "data": {
      "text/plain": [
       "{'document_slug': 'nikhil'}"
      ]
     },
     "execution_count": 9,
     "metadata": {},
     "output_type": "execute_result"
    }
   ],
   "source": [
    "res = requests.get(url = \"https://search-engine123.herokuapp.com/document_slug?document_slug=nikhil1234\")\n",
    "\n",
    "res.json()"
   ]
  },
  {
   "cell_type": "code",
   "execution_count": null,
   "id": "4149a89f",
   "metadata": {},
   "outputs": [],
   "source": []
  }
 ],
 "metadata": {
  "kernelspec": {
   "display_name": "Python 3",
   "language": "python",
   "name": "python3"
  },
  "language_info": {
   "codemirror_mode": {
    "name": "ipython",
    "version": 3
   },
   "file_extension": ".py",
   "mimetype": "text/x-python",
   "name": "python",
   "nbconvert_exporter": "python",
   "pygments_lexer": "ipython3",
   "version": "3.8.8"
  }
 },
 "nbformat": 4,
 "nbformat_minor": 5
}
